{
 "cells": [
  {
   "cell_type": "code",
   "execution_count": 1,
   "metadata": {},
   "outputs": [],
   "source": [
    "import re\n",
    "def solution(myStr):\n",
    "    answer = re.split(\"a|b|c\", myStr) #구분자가 여러개일때 re.split으로 | 이용\n",
    "    an=[]\n",
    "    for i in answer:\n",
    "        if i:\n",
    "            an.append(i)\n",
    "    if an == []:\n",
    "        an=[\"EMPTY\"]\n",
    "    return an"
   ]
  },
  {
   "cell_type": "code",
   "execution_count": 1,
   "metadata": {},
   "outputs": [],
   "source": [
    "import itertools\n",
    "def solution(arr):\n",
    "    answer = []\n",
    "    for i in arr:\n",
    "        answer.append([i]*i) # 값 반복\n",
    "    answer=list(itertools.chain(*answer)) # 이중 리스트 -> 단일 리스트 itertools !\n",
    "    return answer"
   ]
  },
  {
   "cell_type": "code",
   "execution_count": 8,
   "metadata": {},
   "outputs": [],
   "source": [
    "def solution(arr, flag):\n",
    "    answer = []\n",
    "    for i, j in zip(arr,flag): # zip(a,b): a,b 둘다 순환\n",
    "        if j == True:\n",
    "            for k in range(2*i):\n",
    "                answer.append(i)\n",
    "        if j == False:\n",
    "            for k in range(i):\n",
    "                answer.pop()\n",
    "    return answer\n"
   ]
  },
  {
   "cell_type": "code",
   "execution_count": 9,
   "metadata": {},
   "outputs": [],
   "source": [
    "def solution(arr):\n",
    "    stk = []\n",
    "    i=0\n",
    "    while i < len(arr):\n",
    "        if len(stk) == 0:\n",
    "            stk.append(arr[i])\n",
    "            i+=1\n",
    "        elif (len(stk) != 0)  and (stk[-1] == arr[i]):\n",
    "            stk.pop()\n",
    "            i+=1\n",
    "        elif (len(stk) != 0)  and (stk[-1] != arr[i]):\n",
    "            stk.append(arr[i])\n",
    "            i+=1            \n",
    "    return stk if stk else [-1]"
   ]
  },
  {
   "cell_type": "code",
   "execution_count": 5,
   "metadata": {},
   "outputs": [],
   "source": [
    "#무작위로 k개 뽑기\n",
    "def solution(arr, k):\n",
    "    ret = []\n",
    "    for i in arr:\n",
    "        if i not in ret:\n",
    "            ret.append(i)\n",
    "        if len(ret) == k:\n",
    "            break\n",
    "\n",
    "    return ret + [-1] * (k - len(ret)) # 리스트에 요소 추가하기 +로 이루어짐"
   ]
  }
 ],
 "metadata": {
  "kernelspec": {
   "display_name": "base",
   "language": "python",
   "name": "python3"
  },
  "language_info": {
   "codemirror_mode": {
    "name": "ipython",
    "version": 3
   },
   "file_extension": ".py",
   "mimetype": "text/x-python",
   "name": "python",
   "nbconvert_exporter": "python",
   "pygments_lexer": "ipython3",
   "version": "3.11.5"
  }
 },
 "nbformat": 4,
 "nbformat_minor": 2
}
