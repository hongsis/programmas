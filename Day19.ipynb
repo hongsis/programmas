{
 "cells": [
  {
   "cell_type": "code",
   "execution_count": 1,
   "metadata": {},
   "outputs": [],
   "source": [
    "import re\n",
    "def solution(myStr):\n",
    "    answer = re.split(\"a|b|c\", myStr) #구분자가 여러개일때 re.split으로 | 이용\n",
    "    an=[]\n",
    "    for i in answer:\n",
    "        if i:\n",
    "            an.append(i)\n",
    "    if an == []:\n",
    "        an=[\"EMPTY\"]\n",
    "    return an"
   ]
  }
 ],
 "metadata": {
  "kernelspec": {
   "display_name": "base",
   "language": "python",
   "name": "python3"
  },
  "language_info": {
   "codemirror_mode": {
    "name": "ipython",
    "version": 3
   },
   "file_extension": ".py",
   "mimetype": "text/x-python",
   "name": "python",
   "nbconvert_exporter": "python",
   "pygments_lexer": "ipython3",
   "version": "3.11.5"
  }
 },
 "nbformat": 4,
 "nbformat_minor": 2
}
