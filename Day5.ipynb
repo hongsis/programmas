{
 "cells": [
  {
   "cell_type": "code",
   "execution_count": 1,
   "metadata": {},
   "outputs": [],
   "source": [
    "def solution(code):\n",
    "    answer = ''\n",
    "\n",
    "    mode = 0\n",
    "    for i in range(len(code)):\n",
    "        if code[i] == '1':\n",
    "            mode ^= 1\n",
    "        else:\n",
    "            if i % 2 == mode:\n",
    "                answer += code[i]\n",
    "\n",
    "    return answer if answer else 'EMPTY'\n",
    "\n",
    "# ^= 는 비트연산자 중에 xor을 뜻함. \n",
    "# 두 비트가 서로 같으면 0 다르면 1. \n",
    "# --> mode가 0이면 결과는 1, 1이면 같기때문에 0\n",
    "\n",
    "# if answer else 'EMPTY': answer이 빈문자열이면 empty 출력"
   ]
  },
  {
   "cell_type": "code",
   "execution_count": 3,
   "metadata": {},
   "outputs": [],
   "source": [
    "def solution(a, d, included):\n",
    "    s=[]\n",
    "    summ=0\n",
    "    for i in range(len(included)):\n",
    "        s.append(a + i*d)\n",
    "        if included[i]:\n",
    "            summ+=s[i]\n",
    "    return summ"
   ]
  },
  {
   "cell_type": "code",
   "execution_count": 17,
   "metadata": {},
   "outputs": [],
   "source": [
    "def solution(a, b, c):\n",
    "    if int(a==b)+int(a==c)+int(b==c)==0:\n",
    "        answer=a+b+c\n",
    "    elif int(a==b)+int(a==c)+int(b==c) < 3:\n",
    "        answer=(a+b+c)*(a**2+b**2+c**2)\n",
    "    elif int(a==b)+int(a==c)+int(b==c) == 3:\n",
    "        answer=(a+b+c)*(a**2+b**2+c**2)*(a**3+b**3+c**3)    \n",
    "    return answer"
   ]
  },
  {
   "cell_type": "code",
   "execution_count": 18,
   "metadata": {},
   "outputs": [],
   "source": [
    "def solution(a, b, c):\n",
    "    answer=a+b+c\n",
    "    if a==b or b==c or a==c: answer*=a**2+b**2+c**2\n",
    "    if a==b==c:answer*=a**3+b**3+c**3\n",
    "    return answer"
   ]
  },
  {
   "cell_type": "code",
   "execution_count": 27,
   "metadata": {},
   "outputs": [],
   "source": [
    "def solution(num_list):\n",
    "    answer1 = 1\n",
    "    answer2 = sum(num_list)**2\n",
    "    for i in range(len(num_list)):\n",
    "        answer1*=num_list[i]\n",
    "    return 1 if answer1<answer2 else 0\n",
    "\n",
    "# 곱하기 초기값은 1로 !! (0으로 놓는 실수하지 말기)"
   ]
  },
  {
   "cell_type": "code",
   "execution_count": null,
   "metadata": {},
   "outputs": [],
   "source": [
    "def solution(num_list):\n",
    "    answer1 = []\n",
    "    answer2 = []\n",
    "    for i in range(len(num_list)):\n",
    "        if num_list[i] % 2 == 0:\n",
    "            answer1.append(num_list[i])\n",
    "        else:\n",
    "            answer2.append(num_list[i])\n",
    "    answer1 = ''.join(map(str, answer1))\n",
    "    answer2 = ''.join(map(str, answer2))\n",
    "    return int(answer1)+int(answer2)\n",
    "\n",
    "# [3,4,5] 숫자열 리스트를 문자열로 반환하기 위해선 -> ''.join(map(str, answer1))"
   ]
  }
 ],
 "metadata": {
  "kernelspec": {
   "display_name": "base",
   "language": "python",
   "name": "python3"
  },
  "language_info": {
   "codemirror_mode": {
    "name": "ipython",
    "version": 3
   },
   "file_extension": ".py",
   "mimetype": "text/x-python",
   "name": "python",
   "nbconvert_exporter": "python",
   "pygments_lexer": "ipython3",
   "version": "3.11.5"
  }
 },
 "nbformat": 4,
 "nbformat_minor": 2
}
