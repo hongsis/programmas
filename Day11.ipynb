{
 "cells": [
  {
   "cell_type": "code",
   "execution_count": 1,
   "metadata": {},
   "outputs": [],
   "source": [
    "def solution(my_string):\n",
    "    answer = [0] * 52\n",
    "    alp='ABCDEFGHIJKLMNOPQRSTUVWXYZabcdefghijklmnopqrstuvwxyz'\n",
    "    for i in my_string:\n",
    "        if i in alp:\n",
    "            idx= alp.find(i)\n",
    "            answer[idx]+=1\n",
    "    return answer\n",
    "\n",
    "# find : 찾는 문자가 존재 한다면 해당 위치의 index를 반환\n",
    "# string.find(찾을 문자)\n",
    "# string.find(찾을 문자, 시작 Index)\n",
    "# string.find(찾을 문자, 시작 Index, 끝 Index)\n"
   ]
  },
  {
   "cell_type": "code",
   "execution_count": 9,
   "metadata": {},
   "outputs": [],
   "source": [
    "def solution(my_string, indices):\n",
    "    answer=list(my_string)\n",
    "    for i in indices:\n",
    "        answer[i]=\"\"\n",
    "        \n",
    "    return \"\".join(answer)\n",
    "\n",
    "# 특정 인덱스의 문자열 지우기"
   ]
  },
  {
   "cell_type": "code",
   "execution_count": 8,
   "metadata": {},
   "outputs": [],
   "source": [
    "def solution(start, end_num):\n",
    "    answer = []\n",
    "    for i in range(start,end_num-1,-1): # 줄어드는 방향이므로 end_num을 포함시키려면 -1\n",
    "        answer.append(i)\n",
    "    return answer"
   ]
  },
  {
   "cell_type": "code",
   "execution_count": 11,
   "metadata": {},
   "outputs": [
    {
     "data": {
      "text/plain": [
       "1"
      ]
     },
     "execution_count": 11,
     "metadata": {},
     "output_type": "execute_result"
    }
   ],
   "source": [
    "def solution(arr, idx):\n",
    "    answer = []\n",
    "    for i, j in enumerate(arr): \n",
    "        if i >=idx and j ==1:\n",
    "            answer.append(i)\n",
    "    if len(answer)>0:\n",
    "        return min(answer)\n",
    "    else:\n",
    "        return -1"
   ]
  }
 ],
 "metadata": {
  "kernelspec": {
   "display_name": "base",
   "language": "python",
   "name": "python3"
  },
  "language_info": {
   "codemirror_mode": {
    "name": "ipython",
    "version": 3
   },
   "file_extension": ".py",
   "mimetype": "text/x-python",
   "name": "python",
   "nbconvert_exporter": "python",
   "pygments_lexer": "ipython3",
   "version": "3.11.5"
  }
 },
 "nbformat": 4,
 "nbformat_minor": 2
}
