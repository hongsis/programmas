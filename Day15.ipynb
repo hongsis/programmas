{
 "cells": [
  {
   "cell_type": "code",
   "execution_count": 1,
   "metadata": {},
   "outputs": [],
   "source": [
    "def solution(arr):\n",
    "    idx = 0\n",
    "    prev = arr\n",
    "    \n",
    "    while True:\n",
    "        change = []\n",
    "        for i in prev:\n",
    "            if i >= 50 and i % 2 == 0: change.append(int(i / 2))\n",
    "            elif i < 50 and i % 2 == 1: change.append(i * 2 + 1)\n",
    "            else: change.append(i)\n",
    "\n",
    "        same = all(a == b for a, b in zip(prev, change))\n",
    "        if same:\n",
    "            break\n",
    "        idx += 1\n",
    "\n",
    "        prev = change\n",
    "    \n",
    "    return idx\n",
    "\n",
    "# while true: break가 걸리기 전까지 수행\n",
    "# [zip]\n",
    "# 길이가 같은 두개 이상의 자료형에 대하여\n",
    "# 동일한 위치의 자료끼리 튜플 형태로 묶어주는 역할을 수행\n",
    "# [all] : True, False 출력"
   ]
  },
  {
   "cell_type": "code",
   "execution_count": 3,
   "metadata": {},
   "outputs": [],
   "source": [
    "# 정수들이 담긴 리스트 num_list가 주어질 때, \n",
    "# num_list의 모든 원소를 1로 만들기 위해서 필요한 나누기 연산의 횟수를 return\n",
    "\n",
    "def solution(num_list):\n",
    "    answer = 0\n",
    "    \n",
    "    for i in num_list:\n",
    "        count=0\n",
    "        if i !=1:\n",
    "            count+=1\n",
    "            if i % 2 ==0:\n",
    "                i = i //2\n",
    "            else:\n",
    "                i = (i-1)//2\n",
    "        answer+=count        \n",
    "    return answer"
   ]
  },
  {
   "cell_type": "code",
   "execution_count": null,
   "metadata": {},
   "outputs": [],
   "source": [
    "from math import prod\n",
    "def solution(num_list):\n",
    "    return sum(num_list) if len(num_list)>=11 else prod(num_list)\n",
    "\n",
    "# prod: 리스트 내 모든 원소의 곱"
   ]
  }
 ],
 "metadata": {
  "kernelspec": {
   "display_name": "base",
   "language": "python",
   "name": "python3"
  },
  "language_info": {
   "codemirror_mode": {
    "name": "ipython",
    "version": 3
   },
   "file_extension": ".py",
   "mimetype": "text/x-python",
   "name": "python",
   "nbconvert_exporter": "python",
   "pygments_lexer": "ipython3",
   "version": "3.11.5"
  }
 },
 "nbformat": 4,
 "nbformat_minor": 2
}
