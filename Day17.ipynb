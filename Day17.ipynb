{
 "cells": [
  {
   "cell_type": "code",
   "execution_count": 3,
   "metadata": {},
   "outputs": [],
   "source": [
    "# 특정 문자열로 끝나는 가장 긴 부분 문자열 찾기\n",
    "\n",
    "def solution(myString, pat):\n",
    "    answer = ''\n",
    "    mystr=myString[::-1]\n",
    "    patt=pat[::-1]\n",
    "    if patt in mystr:\n",
    "        idx=mystr.index(patt)\n",
    "        answer = mystr[idx:][::-1]\n",
    "    return answer"
   ]
  },
  {
   "cell_type": "code",
   "execution_count": 4,
   "metadata": {},
   "outputs": [],
   "source": [
    "# 문자열이 몇 번 등장하는지 세기\n",
    "# \"banana\"\t, \"ana\" , 2 \n",
    "\n",
    "def solution(myString, pat):\n",
    "    answer = 0\n",
    "    n=len(pat)\n",
    "    for i in range(0,len(myString)-n+1):\n",
    "        if myString[i:i+n]==pat:\n",
    "            answer+=1\n",
    "    return answer"
   ]
  },
  {
   "cell_type": "code",
   "execution_count": null,
   "metadata": {},
   "outputs": [],
   "source": [
    "#ad가 속한 값은 리스트에서 제거\n",
    "def solution(strArr):\n",
    "    answer = []\n",
    "    ad='ad'\n",
    "    for i in strArr:\n",
    "        if ad not in i:\n",
    "            answer.append(i)   \n",
    "    return answer"
   ]
  }
 ],
 "metadata": {
  "kernelspec": {
   "display_name": "base",
   "language": "python",
   "name": "python3"
  },
  "language_info": {
   "codemirror_mode": {
    "name": "ipython",
    "version": 3
   },
   "file_extension": ".py",
   "mimetype": "text/x-python",
   "name": "python",
   "nbconvert_exporter": "python",
   "pygments_lexer": "ipython3",
   "version": "3.11.5"
  }
 },
 "nbformat": 4,
 "nbformat_minor": 2
}
