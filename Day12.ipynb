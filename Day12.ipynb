{
 "cells": [
  {
   "cell_type": "code",
   "execution_count": 1,
   "metadata": {},
   "outputs": [],
   "source": [
    "def solution(n, slicer, num_list):\n",
    "    answer = []\n",
    "    a=slicer[0]\n",
    "    b=slicer[1]\n",
    "    c=slicer[2]\n",
    "    if n ==1:\n",
    "        answer=num_list[0:b+1]\n",
    "    elif n==2:\n",
    "        answer=num_list[a:]\n",
    "    elif n==3:\n",
    "        answer=num_list[a:b+1]\n",
    "    elif n==4:\n",
    "        answer=num_list[a:b+1:c] # c간격으로 슬라이싱 -> list[a:b:c]\n",
    "    return answer\n",
    "\n"
   ]
  },
  {
   "cell_type": "code",
   "execution_count": 7,
   "metadata": {},
   "outputs": [],
   "source": [
    "def solution(arr):\n",
    "    answer = []\n",
    "    \n",
    "    if 2 in arr:\n",
    "        if arr.count(2) > 1:\n",
    "            start = arr.index(2) #2가 처음으로 등장하는 index\n",
    "            end = len(arr) - arr[::-1].index(2) #2가 마지막으로 등장하는 index\n",
    "            return arr[start:end]\n",
    "        else:\n",
    "            idx = arr.index(2)\n",
    "            return [arr[idx]]\n",
    "    else:\n",
    "        return [-1]\n",
    "    \n",
    "    return answer"
   ]
  }
 ],
 "metadata": {
  "kernelspec": {
   "display_name": "base",
   "language": "python",
   "name": "python3"
  },
  "language_info": {
   "codemirror_mode": {
    "name": "ipython",
    "version": 3
   },
   "file_extension": ".py",
   "mimetype": "text/x-python",
   "name": "python",
   "nbconvert_exporter": "python",
   "pygments_lexer": "ipython3",
   "version": "3.11.5"
  }
 },
 "nbformat": 4,
 "nbformat_minor": 2
}
