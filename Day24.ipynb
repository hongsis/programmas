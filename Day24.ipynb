{
 "cells": [
  {
   "cell_type": "code",
   "execution_count": 1,
   "metadata": {},
   "outputs": [],
   "source": [
    "# 그림확대\n",
    "# [\"x.x\", \".x.\", \"x.x\"]\tk=3\t\n",
    "# [\"xxx...xxx\", \"xxx...xxx\", \"xxx...xxx\", \"...xxx...\", \"...xxx...\", \"...xxx...\", \"xxx...xxx\", \"xxx...xxx\", \"xxx...xxx\"]\n",
    "def solution(picture, k):\n",
    "    answer = []\n",
    "    \n",
    "    for i in picture:\n",
    "        char = \"\"\n",
    "        for j in i:\n",
    "            char += j*k\n",
    "        for _ in range(k):\n",
    "            answer.append(char)\n",
    "    \n",
    "    return answer"
   ]
  },
  {
   "cell_type": "code",
   "execution_count": 13,
   "metadata": {},
   "outputs": [],
   "source": [
    "# 특별한 2차원 배열   => 3\t[[1, 0, 0], [0, 1, 0], [0, 0, 1]]\n",
    "def solution(n):\n",
    "    answer=[[0]*n for i in range(n)]\n",
    "    for i in range(n): \n",
    "        answer[i][i]=1\n",
    "    return answer"
   ]
  }
 ],
 "metadata": {
  "kernelspec": {
   "display_name": "base",
   "language": "python",
   "name": "python3"
  },
  "language_info": {
   "codemirror_mode": {
    "name": "ipython",
    "version": 3
   },
   "file_extension": ".py",
   "mimetype": "text/x-python",
   "name": "python",
   "nbconvert_exporter": "python",
   "pygments_lexer": "ipython3",
   "version": "3.11.5"
  }
 },
 "nbformat": 4,
 "nbformat_minor": 2
}
