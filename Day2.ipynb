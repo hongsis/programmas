{
 "cells": [
  {
   "cell_type": "code",
   "execution_count": null,
   "metadata": {},
   "outputs": [],
   "source": [
    "#apple pen -> applepen\n",
    "str1, str2 = input().strip().split(' ')\n",
    "print(str1+str2)"
   ]
  },
  {
   "cell_type": "code",
   "execution_count": 7,
   "metadata": {},
   "outputs": [],
   "source": [
    "# 문자열을 치환하려면 replace\n",
    "# s부터 string문자열만큼 바꾸고싶다? -> str[s:s+len(string)]\n",
    "def solution(my_string, overwrite_string, s):\n",
    "    o =len(overwrite_string)\n",
    "    my_string=my_string.replace(my_string[s:s+o],overwrite_string)\n",
    "    answer=\"\".join(my_string)\n",
    "    return answer"
   ]
  }
 ],
 "metadata": {
  "kernelspec": {
   "display_name": "base",
   "language": "python",
   "name": "python3"
  },
  "language_info": {
   "codemirror_mode": {
    "name": "ipython",
    "version": 3
   },
   "file_extension": ".py",
   "mimetype": "text/x-python",
   "name": "python",
   "nbconvert_exporter": "python",
   "pygments_lexer": "ipython3",
   "version": "3.11.5"
  }
 },
 "nbformat": 4,
 "nbformat_minor": 2
}
