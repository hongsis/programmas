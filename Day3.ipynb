{
 "cells": [
  {
   "cell_type": "code",
   "execution_count": 6,
   "metadata": {},
   "outputs": [],
   "source": [
    "# 문자열 섞기\n",
    "def solution(str1, str2):\n",
    "    answer=''\n",
    "    for i in range(len(str1)):\n",
    "        answer+=str1[i]+str2[i]\n",
    "    return answer"
   ]
  },
  {
   "cell_type": "code",
   "execution_count": 7,
   "metadata": {},
   "outputs": [],
   "source": [
    "# [\"a\",\"b\",\"c\"]\t-> \"abc\"\n",
    "def solution(arr):\n",
    "    answer = \"\".join(arr)\n",
    "    return answer"
   ]
  },
  {
   "cell_type": "code",
   "execution_count": 8,
   "metadata": {},
   "outputs": [],
   "source": [
    "# def, 즉 함수를 호출할때 return이 없으면 None을 출력함\n",
    "def solution(a, b):\n",
    "    ab=int(str(a)+str(b))\n",
    "    z=2*a*b\n",
    "    if ab>=z:\n",
    "        return ab\n",
    "    else:\n",
    "        return z"
   ]
  }
 ],
 "metadata": {
  "kernelspec": {
   "display_name": "base",
   "language": "python",
   "name": "python3"
  },
  "language_info": {
   "codemirror_mode": {
    "name": "ipython",
    "version": 3
   },
   "file_extension": ".py",
   "mimetype": "text/x-python",
   "name": "python",
   "nbconvert_exporter": "python",
   "pygments_lexer": "ipython3",
   "version": "3.11.5"
  }
 },
 "nbformat": 4,
 "nbformat_minor": 2
}
