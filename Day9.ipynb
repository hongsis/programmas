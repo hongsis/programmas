{
 "cells": [
  {
   "cell_type": "code",
   "execution_count": 2,
   "metadata": {},
   "outputs": [],
   "source": [
    "def solution(intStrs, k, s, l):\n",
    "    answer = []\n",
    "    \n",
    "    for i in intStrs:\n",
    "        if int(i[s:s+l]) > k:\n",
    "            answer.append(int(i[s:s+l]))\n",
    "    \n",
    "    return answer"
   ]
  },
  {
   "cell_type": "code",
   "execution_count": 5,
   "metadata": {},
   "outputs": [],
   "source": [
    "def solution(my_strings, parts):\n",
    "    answer = ''\n",
    "    \n",
    "    for idx, val in enumerate(parts): #\n",
    "        answer += my_strings[idx][val[0]:val[1]+1]\n",
    "    \n",
    "    return answer\n",
    "\n",
    "# 순서가 있는 자료형(list, set, tuple, dictionary, string)을 입력으로 받았을 때, 인덱스와 값을 포함하여 리턴\n",
    "# for문과 함께 자주 사용됨\n",
    "# 인덱스와 값을 동시에 접근하면서 루프를 돌리고 싶을 때 사용"
   ]
  },
  {
   "cell_type": "code",
   "execution_count": 6,
   "metadata": {},
   "outputs": [
    {
     "name": "stdout",
     "output_type": "stream",
     "text": [
      "0 [0, 4]\n",
      "1 [1, 2]\n",
      "2 [3, 5]\n",
      "3 [7, 7]\n"
     ]
    }
   ],
   "source": [
    "# enumerate 예시\n",
    "parts=[[0, 4], [1, 2], [3, 5], [7, 7]]\n",
    "for idx, val in enumerate(parts): #\n",
    "        print(idx, val)"
   ]
  },
  {
   "cell_type": "code",
   "execution_count": 9,
   "metadata": {},
   "outputs": [],
   "source": [
    "def solution(my_string):\n",
    "    answer = []\n",
    "    for i in range(len(my_string)):\n",
    "        answer.append(my_string[i:])\n",
    "    answer.sort() # 알파벳순 정렬\n",
    "    return answer\n"
   ]
  },
  {
   "cell_type": "code",
   "execution_count": null,
   "metadata": {},
   "outputs": [],
   "source": [
    "def solution(my_string, is_suffix):\n",
    "    answer = []\n",
    "    for i in range(len(my_string)):\n",
    "        answer.append(my_string[i:])\n",
    "    \n",
    "    return 1 if is_suffix in answer else 0"
   ]
  }
 ],
 "metadata": {
  "kernelspec": {
   "display_name": "base",
   "language": "python",
   "name": "python3"
  },
  "language_info": {
   "codemirror_mode": {
    "name": "ipython",
    "version": 3
   },
   "file_extension": ".py",
   "mimetype": "text/x-python",
   "name": "python",
   "nbconvert_exporter": "python",
   "pygments_lexer": "ipython3",
   "version": "3.11.5"
  }
 },
 "nbformat": 4,
 "nbformat_minor": 2
}
