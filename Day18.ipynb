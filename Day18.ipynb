{
 "cells": [
  {
   "cell_type": "code",
   "execution_count": 1,
   "metadata": {},
   "outputs": [],
   "source": [
    "# \"43 + 12\" -> 55\n",
    "def solution(binomial):\n",
    "    answer = eval(binomial)\n",
    "    return answer"
   ]
  },
  {
   "cell_type": "code",
   "execution_count": 2,
   "metadata": {},
   "outputs": [],
   "source": [
    "def solution(myString, pat):\n",
    "    answer = ''\n",
    "    for i in myString:\n",
    "        if i == 'A':\n",
    "            answer+='B'\n",
    "        elif i == 'B':\n",
    "            answer+='A'\n",
    "    if pat in answer:\n",
    "        answer=1\n",
    "    else:\n",
    "        answer=0\n",
    "    return answer"
   ]
  },
  {
   "cell_type": "code",
   "execution_count": 3,
   "metadata": {},
   "outputs": [],
   "source": [
    "def solution(rny_string):\n",
    "    answer = ''\n",
    "    for i in rny_string:\n",
    "        if i == 'm':\n",
    "            answer+='rn'\n",
    "        else:\n",
    "            answer+=i\n",
    "    return answer"
   ]
  }
 ],
 "metadata": {
  "kernelspec": {
   "display_name": "base",
   "language": "python",
   "name": "python3"
  },
  "language_info": {
   "codemirror_mode": {
    "name": "ipython",
    "version": 3
   },
   "file_extension": ".py",
   "mimetype": "text/x-python",
   "name": "python",
   "nbconvert_exporter": "python",
   "pygments_lexer": "ipython3",
   "version": "3.11.5"
  }
 },
 "nbformat": 4,
 "nbformat_minor": 2
}
