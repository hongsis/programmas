{
 "cells": [
  {
   "cell_type": "code",
   "execution_count": 1,
   "metadata": {},
   "outputs": [],
   "source": [
    "def solution(l, r):\n",
    "    answer = []\n",
    "    for i in range(l,r+1):\n",
    "        if all(num in ['0','5'] for num in str(i)):\n",
    "            answer.append(i)\n",
    "    if len(answer)==0:\n",
    "        answer.append(-1)\n",
    "    return answer\n",
    "\n",
    "# if all(num in ['0','5'] for num in str(i)): --> 특정 숫자의 각 자릿수가 '0' 또는 '5'로만 이루어져 있는지를 확인합니다."
   ]
  },
  {
   "cell_type": "code",
   "execution_count": 2,
   "metadata": {},
   "outputs": [],
   "source": [
    "def solution(n):\n",
    "    res = [n]\n",
    "\n",
    "    while n != 1:\n",
    "        if n%2:\n",
    "            n = 3 * n + 1\n",
    "        else:\n",
    "            n //= 2\n",
    "        \n",
    "        res.append(n)\n",
    "\n",
    "    return res\n",
    "\n",
    "# while 문에서 같은 n을 씀으로써 n이 계속 계산 + while 조건 만족하지않을때 stop"
   ]
  },
  {
   "cell_type": "code",
   "execution_count": 5,
   "metadata": {},
   "outputs": [],
   "source": [
    "def solution(arr):\n",
    "    stk = []\n",
    "    i=0\n",
    "    while i < len(arr):\n",
    "        if len(stk)==0:\n",
    "            stk.append(arr[i])\n",
    "            i+=1\n",
    "        elif len(stk)!=0 and stk[-1]<arr[i]:\n",
    "            stk.append(arr[i])\n",
    "            i+=1\n",
    "        elif len(stk)!=0 and stk[-1]>=arr[i]:\n",
    "            stk.pop()\n",
    "    return stk"
   ]
  }
 ],
 "metadata": {
  "kernelspec": {
   "display_name": "base",
   "language": "python",
   "name": "python3"
  },
  "language_info": {
   "codemirror_mode": {
    "name": "ipython",
    "version": 3
   },
   "file_extension": ".py",
   "mimetype": "text/x-python",
   "name": "python",
   "nbconvert_exporter": "python",
   "pygments_lexer": "ipython3",
   "version": "3.11.5"
  }
 },
 "nbformat": 4,
 "nbformat_minor": 2
}
