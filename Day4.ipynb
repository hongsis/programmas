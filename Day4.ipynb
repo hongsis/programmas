{
 "cells": [
  {
   "cell_type": "code",
   "execution_count": 2,
   "metadata": {},
   "outputs": [],
   "source": [
    "# n이 홀수라면 n 이하의 홀수인 모든 양의 정수의 합을 return\n",
    "# n이 짝수라면 n 이하의 짝수인 모든 양의 정수의 제곱의 합을 return\n",
    "\n",
    "\n",
    "# 제곱의 합 공식 이용\n",
    "# x**2 -> 짝수일때\n",
    "# x**1 -> 홀수일때\n",
    "def solution(n):\n",
    "    return sum(x ** (2 - x % 2) for x in range(n + 1) if n % 2 == x % 2)"
   ]
  },
  {
   "cell_type": "code",
   "execution_count": 3,
   "metadata": {},
   "outputs": [],
   "source": [
    "def solution(n):\n",
    "    answer = 0\n",
    "    if n%2: # --> 1일때\n",
    "        for i in range(1,n+1,2):\n",
    "            answer += i\n",
    "    else:\n",
    "        for i in range(2,n+1,2):\n",
    "            answer += i**2\n",
    "    return answer"
   ]
  },
  {
   "cell_type": "code",
   "execution_count": 7,
   "metadata": {},
   "outputs": [],
   "source": [
    "def solution(ineq, eq, n, m):\n",
    "    return int(eval(str(n)+ineq+eq.replace('!', '')+str(m)))\n",
    "\n",
    "# eval : 매개변수로 받은 expression (=식)을 문자열로 받아서, 실행하는 함수\n",
    "# str(n)을 해주는 이유는 문자열끼리만 +가 성립하기 때문\n",
    "# 마지막에 int()를 안해주면 True/False로 나타나므로 -> 1/0으로 바꿔주기 위함"
   ]
  }
 ],
 "metadata": {
  "kernelspec": {
   "display_name": "base",
   "language": "python",
   "name": "python3"
  },
  "language_info": {
   "codemirror_mode": {
    "name": "ipython",
    "version": 3
   },
   "file_extension": ".py",
   "mimetype": "text/x-python",
   "name": "python",
   "nbconvert_exporter": "python",
   "pygments_lexer": "ipython3",
   "version": "3.11.5"
  }
 },
 "nbformat": 4,
 "nbformat_minor": 2
}
