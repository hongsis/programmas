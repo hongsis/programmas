{
 "cells": [
  {
   "cell_type": "code",
   "execution_count": 4,
   "metadata": {},
   "outputs": [
    {
     "name": "stdout",
     "output_type": "stream",
     "text": [
      "1000\n"
     ]
    }
   ],
   "source": [
    "# 각 학생들의 선발 고사 등수를 담은 정수 배열 rank\n",
    "# 전국 대회 참여 가능 여부가 담긴 boolean 배열 attendance\n",
    "# 전국 대회에 선발된 학생 번호들을 등수가 높은 순서대로 각각 a, b, c번이라고 할 때 10000 × a + 100 × b + c를 return\n",
    "def solution(rank, attendance):\n",
    "    arr = sorted([(x, i) for i, x in enumerate(rank) if attendance[i]])\n",
    "    return arr[0][1] * 10000 + arr[1][1] * 100 + arr[2][1]"
   ]
  },
  {
   "cell_type": "code",
   "execution_count": 5,
   "metadata": {},
   "outputs": [],
   "source": [
    "def solution(flo):\n",
    "    answer = int(flo) # 실수flo에서 정수로 반환 -> int\n",
    "    return answer"
   ]
  },
  {
   "cell_type": "code",
   "execution_count": 6,
   "metadata": {},
   "outputs": [],
   "source": [
    "def solution(num_str):\n",
    "    li = list(num_str)  # 문자열 -> 각각의 원소를 가진 리스트로\n",
    "    answer= list(map(int,li)) # ''로 이루어진 리스트 원소를 숫자로\n",
    "    return sum(answer) #리스트 합"
   ]
  }
 ],
 "metadata": {
  "kernelspec": {
   "display_name": "base",
   "language": "python",
   "name": "python3"
  },
  "language_info": {
   "codemirror_mode": {
    "name": "ipython",
    "version": 3
   },
   "file_extension": ".py",
   "mimetype": "text/x-python",
   "name": "python",
   "nbconvert_exporter": "python",
   "pygments_lexer": "ipython3",
   "version": "3.11.5"
  }
 },
 "nbformat": 4,
 "nbformat_minor": 2
}
