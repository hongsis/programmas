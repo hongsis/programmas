{
 "cells": [
  {
   "cell_type": "code",
   "execution_count": 2,
   "metadata": {},
   "outputs": [],
   "source": [
    "# [1, 2, 3, 100, 99, 98]\tk=3\t [3, 6, 9, 300, 297, 294]\n",
    "# [1, 2, 3, 100, 99, 98]\tk=2\t [3, 4, 5, 102, 101, 100]\n",
    "def solution(arr, k):\n",
    "    if k % 2 ==0 :\n",
    "        arr = [i+k for i in arr]\n",
    "    else:\n",
    "        arr = [i*k for i in arr]\n",
    "    return arr"
   ]
  },
  {
   "cell_type": "code",
   "execution_count": 1,
   "metadata": {},
   "outputs": [],
   "source": [
    "def solution(board, k):\n",
    "    answer = 0\n",
    "    \n",
    "    for i in range(min(k + 1, len(board))):\n",
    "        for j in range(min(k + 1 - i, len(board[i]))):\n",
    "            answer += board[i][j]\n",
    "    \n",
    "    return answer"
   ]
  },
  {
   "cell_type": "code",
   "execution_count": 3,
   "metadata": {},
   "outputs": [],
   "source": [
    "#l로 만들기\n",
    "# \"abcdevwxyz\"\t\"lllllvwxyz\"\n",
    "def solution(myString):\n",
    "    answer = [x if x > 'l' else 'l' for x in myString]\n",
    "    return ''.join(answer)"
   ]
  }
 ],
 "metadata": {
  "kernelspec": {
   "display_name": "base",
   "language": "python",
   "name": "python3"
  },
  "language_info": {
   "codemirror_mode": {
    "name": "ipython",
    "version": 3
   },
   "file_extension": ".py",
   "mimetype": "text/x-python",
   "name": "python",
   "nbconvert_exporter": "python",
   "pygments_lexer": "ipython3",
   "version": "3.11.5"
  }
 },
 "nbformat": 4,
 "nbformat_minor": 2
}
