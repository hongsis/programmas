{
 "cells": [
  {
   "cell_type": "code",
   "execution_count": 1,
   "metadata": {},
   "outputs": [],
   "source": [
    "def solution(a, b, c, d):\n",
    "    answer = 0\n",
    "    origin = [a, b, c, d]\n",
    "    arr = list(set(origin))\n",
    "    \n",
    "    if len(arr) == 4:\n",
    "        answer = min(arr)\n",
    "    elif len(arr) == 3:\n",
    "        p = max(origin, key=origin.count) # orgin에서 빈도가 가장 많은 값 리턴\n",
    "        tmp = [num for num in arr if num != p]\n",
    "        answer = tmp[0] * tmp[1]\n",
    "    elif len(arr) == 2:\n",
    "        if max([origin.count(num) for num in arr]) > 2:\n",
    "            p = max(origin, key=origin.count)\n",
    "            q = min(origin, key=origin.count)\n",
    "            answer = pow(((10 * p) + q), 2)\n",
    "        else:\n",
    "            answer = ((arr[0] + arr[1]) * abs(arr[0] - arr[1]))  \n",
    "    elif len(arr) == 1:\n",
    "        answer = origin[0] *1111\n",
    "    \n",
    "    return answer"
   ]
  },
  {
   "cell_type": "code",
   "execution_count": 2,
   "metadata": {},
   "outputs": [],
   "source": [
    "#문자열 여러번 뒤집기\n",
    "def solution(my_string, queries):\n",
    "    for start, end in queries:\n",
    "        my_string = my_string[:start] + my_string[start:end+1][::-1] + my_string[end+1:]\n",
    "    return my_string"
   ]
  }
 ],
 "metadata": {
  "kernelspec": {
   "display_name": "base",
   "language": "python",
   "name": "python3"
  },
  "language_info": {
   "codemirror_mode": {
    "name": "ipython",
    "version": 3
   },
   "file_extension": ".py",
   "mimetype": "text/x-python",
   "name": "python",
   "nbconvert_exporter": "python",
   "pygments_lexer": "ipython3",
   "version": "3.11.5"
  }
 },
 "nbformat": 4,
 "nbformat_minor": 2
}
