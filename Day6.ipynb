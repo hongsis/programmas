{
 "cells": [
  {
   "cell_type": "code",
   "execution_count": 1,
   "metadata": {},
   "outputs": [],
   "source": [
    "def solution(numLog):\n",
    "    answer = ''\n",
    "    for i in range(1,len(numLog)):\n",
    "        num=numLog[i]-numLog[i-1]\n",
    "        if num == 1:\n",
    "            answer+='w'\n",
    "        elif num == -1:\n",
    "            answer+='s'\n",
    "        elif num == 10:\n",
    "            answer+='d'\n",
    "        else:\n",
    "            answer+='a'\n",
    "    return answer"
   ]
  },
  {
   "cell_type": "code",
   "execution_count": 7,
   "metadata": {},
   "outputs": [],
   "source": [
    "#2차원 정수 배열 (쿼리)\n",
    "\n",
    "def solution(arr, queries):\n",
    "    for k in queries:\n",
    "        i=k[0]\n",
    "        j=k[1]\n",
    "        temp=arr[i]\n",
    "        arr[i]=arr[j]\n",
    "        arr[j]=temp\n",
    "    answer = arr\n",
    "    return answer"
   ]
  },
  {
   "cell_type": "code",
   "execution_count": null,
   "metadata": {},
   "outputs": [],
   "source": [
    "def solution(arr, queries):\n",
    "    answer = []\n",
    "    for i in queries:\n",
    "        temp=[]\n",
    "        for j in range(i[0],i[1]+1):\n",
    "            if arr[j] > i[2]:\n",
    "                temp.append(arr[j])\n",
    "        try:\n",
    "            answer.append(min(temp))\n",
    "        except:\n",
    "            answer.append(-1)\n",
    "    return answer\n",
    "\n",
    "# try // except\n",
    "# answer 리스트에 조건에 부합되는 요소를 추가하되,최소값을 추가해야 하기에 min() 함수 사용, \n",
    "# 위 조건에 부합하는 값이 없을 경우 어떤 요소도 추가되지 않아 오류가 발생하기에 try ~ except로 예외처리"
   ]
  }
 ],
 "metadata": {
  "kernelspec": {
   "display_name": "base",
   "language": "python",
   "name": "python3"
  },
  "language_info": {
   "codemirror_mode": {
    "name": "ipython",
    "version": 3
   },
   "file_extension": ".py",
   "mimetype": "text/x-python",
   "name": "python",
   "nbconvert_exporter": "python",
   "pygments_lexer": "ipython3",
   "version": "3.11.5"
  }
 },
 "nbformat": 4,
 "nbformat_minor": 2
}
