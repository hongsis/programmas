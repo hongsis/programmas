{
 "cells": [
  {
   "cell_type": "code",
   "execution_count": 2,
   "metadata": {},
   "outputs": [
    {
     "data": {
      "text/plain": [
       "'progrAmmers'"
      ]
     },
     "execution_count": 2,
     "metadata": {},
     "output_type": "execute_result"
    }
   ],
   "source": [
    "def solution(myString):\n",
    "    answer = ''\n",
    "    for i in myString:\n",
    "        if i =='a':\n",
    "            answer+='A'\n",
    "        elif i !='A':\n",
    "            answer+=i.lower()\n",
    "        elif i =='A':\n",
    "            answer+=i\n",
    "    return answer\n",
    "\n",
    "# 모든 경우가 다 포함되도록 !"
   ]
  }
 ],
 "metadata": {
  "kernelspec": {
   "display_name": "base",
   "language": "python",
   "name": "python3"
  },
  "language_info": {
   "codemirror_mode": {
    "name": "ipython",
    "version": 3
   },
   "file_extension": ".py",
   "mimetype": "text/x-python",
   "name": "python",
   "nbconvert_exporter": "python",
   "pygments_lexer": "ipython3",
   "version": "3.11.5"
  }
 },
 "nbformat": 4,
 "nbformat_minor": 2
}
