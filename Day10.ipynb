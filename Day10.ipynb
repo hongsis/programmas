{
 "cells": [
  {
   "cell_type": "code",
   "execution_count": 2,
   "metadata": {},
   "outputs": [],
   "source": [
    "def solution(my_string, s, e):\n",
    "    answer = ''\n",
    "    answer=my_string[0:s]+my_string[s:e+1][::-1]+my_string[e+1:]\n",
    "    return answer\n",
    "\n",
    "# 문자열 뒤집기 -> 슬라이싱 이용 ==> [::-1]"
   ]
  },
  {
   "cell_type": "code",
   "execution_count": 5,
   "metadata": {},
   "outputs": [],
   "source": [
    "def solution(my_string, m, c):\n",
    "    answer = ''\n",
    "    for i in range(c-1,len(my_string),m):\n",
    "        answer+=my_string[i]\n",
    "    return answer\n",
    "\n",
    "# 1~10을 4간격으로 배열 -> range(1,10,4)"
   ]
  }
 ],
 "metadata": {
  "kernelspec": {
   "display_name": "base",
   "language": "python",
   "name": "python3"
  },
  "language_info": {
   "codemirror_mode": {
    "name": "ipython",
    "version": 3
   },
   "file_extension": ".py",
   "mimetype": "text/x-python",
   "name": "python",
   "nbconvert_exporter": "python",
   "pygments_lexer": "ipython3",
   "version": "3.11.5"
  }
 },
 "nbformat": 4,
 "nbformat_minor": 2
}
