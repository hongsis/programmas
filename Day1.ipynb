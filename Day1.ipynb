{
 "cells": [
  {
   "cell_type": "code",
   "execution_count": 1,
   "metadata": {},
   "outputs": [
    {
     "name": "stdout",
     "output_type": "stream",
     "text": [
      "AB"
     ]
    }
   ],
   "source": [
    "#대/소문자 바꾸기\n",
    "str = input()\n",
    "for i in str:\n",
    "    if i.isupper():\n",
    "        print(i.lower(),end=\"\")\n",
    "    else:\n",
    "        print(i.upper(),end=\"\")"
   ]
  },
  {
   "cell_type": "code",
   "execution_count": 2,
   "metadata": {},
   "outputs": [
    {
     "name": "stdout",
     "output_type": "stream",
     "text": [
      "!@#$%^&*(\\'\"<>?:;\n"
     ]
    }
   ],
   "source": [
    "print('!@#$%^&*(\\\\\\'\\\"<>?:;')\n",
    "#\\ ' \" 같은 특수문자 앞에는 백슬래쉬 같이 써줘야 문자열로 인식함"
   ]
  }
 ],
 "metadata": {
  "kernelspec": {
   "display_name": "base",
   "language": "python",
   "name": "python3"
  },
  "language_info": {
   "codemirror_mode": {
    "name": "ipython",
    "version": 3
   },
   "file_extension": ".py",
   "mimetype": "text/x-python",
   "name": "python",
   "nbconvert_exporter": "python",
   "pygments_lexer": "ipython3",
   "version": "3.11.5"
  }
 },
 "nbformat": 4,
 "nbformat_minor": 2
}
