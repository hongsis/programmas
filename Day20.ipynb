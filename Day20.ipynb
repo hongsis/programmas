{
 "cells": [
  {
   "cell_type": "code",
   "execution_count": 2,
   "metadata": {},
   "outputs": [],
   "source": [
    "def solution(arr):\n",
    "    for i in range(11):\n",
    "        if len(arr) <= 2**i:\n",
    "            return arr + [0] * (2**i - len(arr))"
   ]
  },
  {
   "cell_type": "code",
   "execution_count": 4,
   "metadata": {},
   "outputs": [],
   "source": [
    "def solution(arr1, arr2):\n",
    "    answer = 0\n",
    "    if len(arr1) > len(arr2):\n",
    "        return 1\n",
    "    elif len(arr1) < len(arr2):\n",
    "        return -1\n",
    "    elif len(arr1) == len(arr2):\n",
    "        if sum(arr1) > sum(arr2):\n",
    "            return 1\n",
    "        elif sum(arr1) < sum(arr2):\n",
    "            return -1\n",
    "        else:\n",
    "            return 0"
   ]
  },
  {
   "cell_type": "code",
   "execution_count": 7,
   "metadata": {},
   "outputs": [],
   "source": [
    "# 문자열 묶기\n",
    "# 같은 문자열들끼리 그룹으로 묶었을 때 가장 개수가 많은 그룹의 크기를 return \n",
    "def solution(strArr):\n",
    "    answer = [len(i) for i in strArr]\n",
    "    tmp = []\n",
    "    for i in set(answer):\n",
    "        tmp.append(answer.count(i))\n",
    "    \n",
    "    return max(tmp)"
   ]
  }
 ],
 "metadata": {
  "kernelspec": {
   "display_name": "base",
   "language": "python",
   "name": "python3"
  },
  "language_info": {
   "codemirror_mode": {
    "name": "ipython",
    "version": 3
   },
   "file_extension": ".py",
   "mimetype": "text/x-python",
   "name": "python",
   "nbconvert_exporter": "python",
   "pygments_lexer": "ipython3",
   "version": "3.11.5"
  }
 },
 "nbformat": 4,
 "nbformat_minor": 2
}
