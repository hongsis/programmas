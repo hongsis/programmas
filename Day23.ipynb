{
 "cells": [
  {
   "cell_type": "code",
   "execution_count": null,
   "metadata": {},
   "outputs": [],
   "source": [
    "# [\"abc\", \"def\", \"ghi\"]\t\"ef\"  ->\t\"abcghi\"\n",
    "\n",
    "def solution(str_list, ex):\n",
    "    answer = ''\n",
    "    \n",
    "    for i in str_list:\n",
    "        if ex not in i :\n",
    "            answer += i\n",
    "    return answer"
   ]
  },
  {
   "cell_type": "code",
   "execution_count": 1,
   "metadata": {},
   "outputs": [],
   "source": [
    "# a와 b가 모두 홀수라면 a^2 + b^2 점을 얻습니다.\n",
    "# a와 b 중 하나만 홀수라면 2 × (a + b) 점을 얻습니다.\n",
    "# a와 b 모두 홀수가 아니라면 |a - b| 점을 얻습니다.\n",
    "def solution(a, b):\n",
    "    if a%2 and b%2: return a*a+b*b\n",
    "    elif a%2 or b%2: return 2*(a+b)\n",
    "    return abs(a-b)"
   ]
  },
  {
   "cell_type": "code",
   "execution_count": 4,
   "metadata": {},
   "outputs": [],
   "source": [
    "# [2021, 12, 28]\t[2021, 12, 29]\t1\n",
    "# [1024, 10, 24]\t[1024, 10, 24]\t0\n",
    "def solution(date1, date2): \n",
    "    a=int(''.join(map(str,date1)))\n",
    "    b=int(''.join(map(str,date2)))\n",
    "    if a<b:\n",
    "        return 1\n",
    "    else:\n",
    "        return 0\n",
    "# map(적용시킬 함수, 적용할 값들) \n",
    "# map 함수의 반환 값은 map객체 이기 때문에 해당 자료형을 list 혹은 tuple로 형 변환시켜주어야"
   ]
  }
 ],
 "metadata": {
  "kernelspec": {
   "display_name": "base",
   "language": "python",
   "name": "python3"
  },
  "language_info": {
   "codemirror_mode": {
    "name": "ipython",
    "version": 3
   },
   "file_extension": ".py",
   "mimetype": "text/x-python",
   "name": "python",
   "nbconvert_exporter": "python",
   "pygments_lexer": "ipython3",
   "version": "3.11.5"
  }
 },
 "nbformat": 4,
 "nbformat_minor": 2
}
